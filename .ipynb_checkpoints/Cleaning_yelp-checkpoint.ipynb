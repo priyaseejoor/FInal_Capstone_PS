{
 "cells": [
  {
   "cell_type": "code",
   "execution_count": 1,
   "metadata": {},
   "outputs": [],
   "source": [
    "import pandas as pd\n",
    "import numpy as np"
   ]
  },
  {
   "cell_type": "code",
   "execution_count": 23,
   "metadata": {},
   "outputs": [],
   "source": [
    "biz = pd.read_json(\"/Users/priya/Documents/Final Capstone/Large Files/business.json\", lines=True)"
   ]
  },
  {
   "cell_type": "code",
   "execution_count": 3,
   "metadata": {},
   "outputs": [
    {
     "data": {
      "text/plain": [
       "(209393, 14)"
      ]
     },
     "execution_count": 3,
     "metadata": {},
     "output_type": "execute_result"
    }
   ],
   "source": [
    "biz.shape"
   ]
  },
  {
   "cell_type": "code",
   "execution_count": 4,
   "metadata": {},
   "outputs": [],
   "source": [
    "#selecting businesses that didn't close down\n",
    "biz = biz[biz['is_open']==1]"
   ]
  },
  {
   "cell_type": "code",
   "execution_count": 5,
   "metadata": {},
   "outputs": [],
   "source": [
    "#selecting businesses that are located in the US\n",
    "biz = biz[biz['state'].isin([\"AL\", \"AK\", \"AZ\", \"AR\", \"CA\", \"CO\", \"CT\", \"DC\", \"DE\", \"FL\", \"GA\", \"HI\", \"ID\", \"IL\", \"IN\", \"IA\", \"KS\", \"KY\", \"LA\", \"ME\", \"MD\", \"MA\", \"MI\", \"MN\", \"MS\", \"MO\", \"MT\", \"NE\", \"NV\", \"NH\", \"NJ\", \"NM\", \"NY\", \"NC\", \"ND\", \"OH\", \"OK\", \"OR\", \"PA\", \"RI\", \"SC\", \"SD\", \"TN\", \"TX\", \"UT\", \"VT\", \"VA\", \"WA\", \"WV\", \"WI\", \"WY\"])]"
   ]
  },
  {
   "cell_type": "code",
   "execution_count": 6,
   "metadata": {},
   "outputs": [],
   "source": [
    "#dropping irrelevant columns\n",
    "drop_columns = ['hours','is_open']\n",
    "biz = biz.drop(drop_columns, axis=1)"
   ]
  },
  {
   "cell_type": "code",
   "execution_count": 7,
   "metadata": {},
   "outputs": [],
   "source": [
    "#selecting businesses that are restaurants  \n",
    "biz = biz[biz['categories'].str.contains('Restaurants',case=False, na=False)]"
   ]
  },
  {
   "cell_type": "code",
   "execution_count": 1,
   "metadata": {},
   "outputs": [
    {
     "ename": "NameError",
     "evalue": "name 'biz' is not defined",
     "output_type": "error",
     "traceback": [
      "\u001b[0;31m---------------------------------------------------------------------------\u001b[0m",
      "\u001b[0;31mNameError\u001b[0m                                 Traceback (most recent call last)",
      "\u001b[0;32m<ipython-input-1-353785145a1e>\u001b[0m in \u001b[0;36m<module>\u001b[0;34m\u001b[0m\n\u001b[1;32m      1\u001b[0m \u001b[0;31m#selected 6 random cuisine types\u001b[0m\u001b[0;34m\u001b[0m\u001b[0;34m\u001b[0m\u001b[0;34m\u001b[0m\u001b[0m\n\u001b[0;32m----> 2\u001b[0;31m \u001b[0mbiz\u001b[0m\u001b[0;34m.\u001b[0m\u001b[0mis_copy\u001b[0m\u001b[0;34m=\u001b[0m\u001b[0;32mFalse\u001b[0m\u001b[0;34m\u001b[0m\u001b[0;34m\u001b[0m\u001b[0m\n\u001b[0m\u001b[1;32m      3\u001b[0m \u001b[0mbiz\u001b[0m\u001b[0;34m[\u001b[0m\u001b[0;34m'category'\u001b[0m\u001b[0;34m]\u001b[0m\u001b[0;34m=\u001b[0m\u001b[0mpd\u001b[0m\u001b[0;34m.\u001b[0m\u001b[0mSeries\u001b[0m\u001b[0;34m(\u001b[0m\u001b[0;34m)\u001b[0m\u001b[0;34m\u001b[0m\u001b[0;34m\u001b[0m\u001b[0m\n\u001b[1;32m      4\u001b[0m \u001b[0mbiz\u001b[0m\u001b[0;34m.\u001b[0m\u001b[0mloc\u001b[0m\u001b[0;34m[\u001b[0m\u001b[0mbiz\u001b[0m\u001b[0;34m.\u001b[0m\u001b[0mcategories\u001b[0m\u001b[0;34m.\u001b[0m\u001b[0mstr\u001b[0m\u001b[0;34m.\u001b[0m\u001b[0mcontains\u001b[0m\u001b[0;34m(\u001b[0m\u001b[0;34m'Italian'\u001b[0m\u001b[0;34m)\u001b[0m\u001b[0;34m,\u001b[0m \u001b[0;34m'category'\u001b[0m\u001b[0;34m]\u001b[0m \u001b[0;34m=\u001b[0m \u001b[0;34m'Italian'\u001b[0m\u001b[0;34m\u001b[0m\u001b[0;34m\u001b[0m\u001b[0m\n\u001b[1;32m      5\u001b[0m \u001b[0mbiz\u001b[0m\u001b[0;34m.\u001b[0m\u001b[0mloc\u001b[0m\u001b[0;34m[\u001b[0m\u001b[0mbiz\u001b[0m\u001b[0;34m.\u001b[0m\u001b[0mcategories\u001b[0m\u001b[0;34m.\u001b[0m\u001b[0mstr\u001b[0m\u001b[0;34m.\u001b[0m\u001b[0mcontains\u001b[0m\u001b[0;34m(\u001b[0m\u001b[0;34m'Korean'\u001b[0m\u001b[0;34m)\u001b[0m\u001b[0;34m,\u001b[0m\u001b[0;34m'category'\u001b[0m\u001b[0;34m]\u001b[0m \u001b[0;34m=\u001b[0m \u001b[0;34m'Korean'\u001b[0m\u001b[0;34m\u001b[0m\u001b[0;34m\u001b[0m\u001b[0m\n",
      "\u001b[0;31mNameError\u001b[0m: name 'biz' is not defined"
     ]
    }
   ],
   "source": [
    "#selected 6 random cuisine types\n",
    "biz.is_copy=False\n",
    "biz['category']=pd.Series()\n",
    "biz.loc[biz.categories.str.contains('Italian'), 'category'] = 'Italian'\n",
    "biz.loc[biz.categories.str.contains('Korean'),'category'] = 'Korean'\n",
    "biz.loc[biz.categories.str.contains('French'), 'category'] = 'French'\n",
    "biz.loc[biz.categories.str.contains('Greek'),'category'] = 'Greek'\n",
    "biz.loc[biz.categories.str.contains('Indian'),'category'] = 'Indian'\n",
    "biz.loc[biz.categories.str.contains('Japanese'), 'category'] = 'Japanese'\n",
    "biz.category[:20]"
   ]
  },
  {
   "cell_type": "code",
   "execution_count": 9,
   "metadata": {},
   "outputs": [],
   "source": [
    "#dropped null values, deleted old column\n",
    "biz=biz.dropna(axis=0, subset=['category'])\n",
    "del biz['categories']\n",
    "biz=biz.reset_index(drop=True)"
   ]
  },
  {
   "cell_type": "code",
   "execution_count": 10,
   "metadata": {},
   "outputs": [
    {
     "data": {
      "text/html": [
       "<div>\n",
       "<style scoped>\n",
       "    .dataframe tbody tr th:only-of-type {\n",
       "        vertical-align: middle;\n",
       "    }\n",
       "\n",
       "    .dataframe tbody tr th {\n",
       "        vertical-align: top;\n",
       "    }\n",
       "\n",
       "    .dataframe thead th {\n",
       "        text-align: right;\n",
       "    }\n",
       "</style>\n",
       "<table border=\"1\" class=\"dataframe\">\n",
       "  <thead>\n",
       "    <tr style=\"text-align: right;\">\n",
       "      <th></th>\n",
       "      <th>business_id</th>\n",
       "      <th>name</th>\n",
       "      <th>address</th>\n",
       "      <th>city</th>\n",
       "      <th>state</th>\n",
       "      <th>postal_code</th>\n",
       "      <th>latitude</th>\n",
       "      <th>longitude</th>\n",
       "      <th>stars</th>\n",
       "      <th>review_count</th>\n",
       "      <th>attributes</th>\n",
       "      <th>category</th>\n",
       "    </tr>\n",
       "  </thead>\n",
       "  <tbody>\n",
       "    <tr>\n",
       "      <th>0</th>\n",
       "      <td>0y6alZmSLnPzmG5_kP5Quw</td>\n",
       "      <td>J J's Pizza</td>\n",
       "      <td>20542 Lorain Rd</td>\n",
       "      <td>Fairview Park</td>\n",
       "      <td>OH</td>\n",
       "      <td>44126</td>\n",
       "      <td>41.448341</td>\n",
       "      <td>-81.847644</td>\n",
       "      <td>4.5</td>\n",
       "      <td>21</td>\n",
       "      <td>{'NoiseLevel': 'u'quiet'', 'WiFi': ''no'', 'Bu...</td>\n",
       "      <td>Italian</td>\n",
       "    </tr>\n",
       "    <tr>\n",
       "      <th>1</th>\n",
       "      <td>AN0bWhisCf6LN9eHZ7DQ3w</td>\n",
       "      <td>Los Olivos Ristorante</td>\n",
       "      <td>3759 E Desert Inn Rd</td>\n",
       "      <td>Las Vegas</td>\n",
       "      <td>NV</td>\n",
       "      <td>89121</td>\n",
       "      <td>36.129178</td>\n",
       "      <td>-115.092483</td>\n",
       "      <td>5.0</td>\n",
       "      <td>222</td>\n",
       "      <td>{'WiFi': 'u'free'', 'RestaurantsPriceRange2': ...</td>\n",
       "      <td>Italian</td>\n",
       "    </tr>\n",
       "    <tr>\n",
       "      <th>2</th>\n",
       "      <td>AtD6B83S4Mbmq0t7iDnUVA</td>\n",
       "      <td>Veggie House</td>\n",
       "      <td>5115 Spring Mountain Rd, Ste 203</td>\n",
       "      <td>Las Vegas</td>\n",
       "      <td>NV</td>\n",
       "      <td>89146</td>\n",
       "      <td>36.125569</td>\n",
       "      <td>-115.210911</td>\n",
       "      <td>4.5</td>\n",
       "      <td>1142</td>\n",
       "      <td>{'RestaurantsPriceRange2': '2', 'BikeParking':...</td>\n",
       "      <td>Japanese</td>\n",
       "    </tr>\n",
       "    <tr>\n",
       "      <th>3</th>\n",
       "      <td>UITPqkoDytnHT4kxaAyDeA</td>\n",
       "      <td>Hibachi Express</td>\n",
       "      <td>7945 N Tryon St, Ste 100</td>\n",
       "      <td>Charlotte</td>\n",
       "      <td>NC</td>\n",
       "      <td>28262</td>\n",
       "      <td>35.297100</td>\n",
       "      <td>-80.755434</td>\n",
       "      <td>3.0</td>\n",
       "      <td>23</td>\n",
       "      <td>{'Ambience': '{'romantic': False, 'intimate': ...</td>\n",
       "      <td>Japanese</td>\n",
       "    </tr>\n",
       "    <tr>\n",
       "      <th>4</th>\n",
       "      <td>_Kp1IPTi17wBywYOd30raA</td>\n",
       "      <td>Pizza Hut</td>\n",
       "      <td>8609 University Blvd</td>\n",
       "      <td>Coraopolis</td>\n",
       "      <td>PA</td>\n",
       "      <td>15108</td>\n",
       "      <td>40.507268</td>\n",
       "      <td>-80.222632</td>\n",
       "      <td>2.0</td>\n",
       "      <td>14</td>\n",
       "      <td>{'NoiseLevel': 'u'quiet'', 'RestaurantsGoodFor...</td>\n",
       "      <td>Italian</td>\n",
       "    </tr>\n",
       "  </tbody>\n",
       "</table>\n",
       "</div>"
      ],
      "text/plain": [
       "              business_id                   name  \\\n",
       "0  0y6alZmSLnPzmG5_kP5Quw            J J's Pizza   \n",
       "1  AN0bWhisCf6LN9eHZ7DQ3w  Los Olivos Ristorante   \n",
       "2  AtD6B83S4Mbmq0t7iDnUVA           Veggie House   \n",
       "3  UITPqkoDytnHT4kxaAyDeA        Hibachi Express   \n",
       "4  _Kp1IPTi17wBywYOd30raA              Pizza Hut   \n",
       "\n",
       "                            address           city state postal_code  \\\n",
       "0                   20542 Lorain Rd  Fairview Park    OH       44126   \n",
       "1              3759 E Desert Inn Rd      Las Vegas    NV       89121   \n",
       "2  5115 Spring Mountain Rd, Ste 203      Las Vegas    NV       89146   \n",
       "3          7945 N Tryon St, Ste 100      Charlotte    NC       28262   \n",
       "4              8609 University Blvd     Coraopolis    PA       15108   \n",
       "\n",
       "    latitude   longitude  stars  review_count  \\\n",
       "0  41.448341  -81.847644    4.5            21   \n",
       "1  36.129178 -115.092483    5.0           222   \n",
       "2  36.125569 -115.210911    4.5          1142   \n",
       "3  35.297100  -80.755434    3.0            23   \n",
       "4  40.507268  -80.222632    2.0            14   \n",
       "\n",
       "                                          attributes  category  \n",
       "0  {'NoiseLevel': 'u'quiet'', 'WiFi': ''no'', 'Bu...   Italian  \n",
       "1  {'WiFi': 'u'free'', 'RestaurantsPriceRange2': ...   Italian  \n",
       "2  {'RestaurantsPriceRange2': '2', 'BikeParking':...  Japanese  \n",
       "3  {'Ambience': '{'romantic': False, 'intimate': ...  Japanese  \n",
       "4  {'NoiseLevel': 'u'quiet'', 'RestaurantsGoodFor...   Italian  "
      ]
     },
     "execution_count": 10,
     "metadata": {},
     "output_type": "execute_result"
    }
   ],
   "source": [
    "biz.head()"
   ]
  },
  {
   "cell_type": "code",
   "execution_count": 11,
   "metadata": {},
   "outputs": [],
   "source": [
    "review_json_path = '/Users/priya/Documents/Final Capstone/Large Files/review.json'"
   ]
  },
  {
   "cell_type": "code",
   "execution_count": 12,
   "metadata": {},
   "outputs": [],
   "source": [
    "size = 100000\n",
    "review = pd.read_json(review_json_path, lines=True,\n",
    "                      dtype={'review_id':str,'user_id':str,\n",
    "                             'business_id':str,'stars':int,\n",
    "                             'date':str,'text':str,'useful':int,\n",
    "                             'funny':int,'cool':int},\n",
    "                      chunksize=size)\n"
   ]
  },
  {
   "cell_type": "code",
   "execution_count": 13,
   "metadata": {},
   "outputs": [],
   "source": [
    "chunk_list = []\n",
    "for c_review in review:\n",
    "    c_review = c_review.drop(['review_id','useful','funny','cool'], axis=1)\n",
    "    c_review = c_review.rename(columns={'stars': 'review_stars'})\n",
    "    chunk_merged = pd.merge(biz, c_review, on='business_id', how='inner')\n",
    "    chunk_list.append(chunk_merged)\n",
    "df = pd.concat(chunk_list, ignore_index=True, join='outer', axis=0)"
   ]
  },
  {
   "cell_type": "code",
   "execution_count": 14,
   "metadata": {},
   "outputs": [
    {
     "data": {
      "text/plain": [
       "(766882, 16)"
      ]
     },
     "execution_count": 14,
     "metadata": {},
     "output_type": "execute_result"
    }
   ],
   "source": [
    "df.shape"
   ]
  },
  {
   "cell_type": "code",
   "execution_count": 15,
   "metadata": {},
   "outputs": [
    {
     "data": {
      "text/html": [
       "<div>\n",
       "<style scoped>\n",
       "    .dataframe tbody tr th:only-of-type {\n",
       "        vertical-align: middle;\n",
       "    }\n",
       "\n",
       "    .dataframe tbody tr th {\n",
       "        vertical-align: top;\n",
       "    }\n",
       "\n",
       "    .dataframe thead th {\n",
       "        text-align: right;\n",
       "    }\n",
       "</style>\n",
       "<table border=\"1\" class=\"dataframe\">\n",
       "  <thead>\n",
       "    <tr style=\"text-align: right;\">\n",
       "      <th></th>\n",
       "      <th>business_id</th>\n",
       "      <th>name</th>\n",
       "      <th>address</th>\n",
       "      <th>city</th>\n",
       "      <th>state</th>\n",
       "      <th>postal_code</th>\n",
       "      <th>latitude</th>\n",
       "      <th>longitude</th>\n",
       "      <th>stars</th>\n",
       "      <th>review_count</th>\n",
       "      <th>attributes</th>\n",
       "      <th>category</th>\n",
       "      <th>user_id</th>\n",
       "      <th>review_stars</th>\n",
       "      <th>text</th>\n",
       "      <th>date</th>\n",
       "    </tr>\n",
       "  </thead>\n",
       "  <tbody>\n",
       "    <tr>\n",
       "      <th>0</th>\n",
       "      <td>0y6alZmSLnPzmG5_kP5Quw</td>\n",
       "      <td>J J's Pizza</td>\n",
       "      <td>20542 Lorain Rd</td>\n",
       "      <td>Fairview Park</td>\n",
       "      <td>OH</td>\n",
       "      <td>44126</td>\n",
       "      <td>41.448341</td>\n",
       "      <td>-81.847644</td>\n",
       "      <td>4.5</td>\n",
       "      <td>21</td>\n",
       "      <td>{'NoiseLevel': 'u'quiet'', 'WiFi': ''no'', 'Bu...</td>\n",
       "      <td>Italian</td>\n",
       "      <td>6hVKlwEqIx8sge7Q-Dwctw</td>\n",
       "      <td>4</td>\n",
       "      <td>I live in Cleveland but this store is close to...</td>\n",
       "      <td>2016-12-04 09:53:04</td>\n",
       "    </tr>\n",
       "    <tr>\n",
       "      <th>1</th>\n",
       "      <td>0y6alZmSLnPzmG5_kP5Quw</td>\n",
       "      <td>J J's Pizza</td>\n",
       "      <td>20542 Lorain Rd</td>\n",
       "      <td>Fairview Park</td>\n",
       "      <td>OH</td>\n",
       "      <td>44126</td>\n",
       "      <td>41.448341</td>\n",
       "      <td>-81.847644</td>\n",
       "      <td>4.5</td>\n",
       "      <td>21</td>\n",
       "      <td>{'NoiseLevel': 'u'quiet'', 'WiFi': ''no'', 'Bu...</td>\n",
       "      <td>Italian</td>\n",
       "      <td>GgnVgDYZAptY1Q8QdSHfLg</td>\n",
       "      <td>4</td>\n",
       "      <td>First time trying it. We ordered a variety of ...</td>\n",
       "      <td>2017-05-01 00:43:37</td>\n",
       "    </tr>\n",
       "    <tr>\n",
       "      <th>2</th>\n",
       "      <td>AN0bWhisCf6LN9eHZ7DQ3w</td>\n",
       "      <td>Los Olivos Ristorante</td>\n",
       "      <td>3759 E Desert Inn Rd</td>\n",
       "      <td>Las Vegas</td>\n",
       "      <td>NV</td>\n",
       "      <td>89121</td>\n",
       "      <td>36.129178</td>\n",
       "      <td>-115.092483</td>\n",
       "      <td>5.0</td>\n",
       "      <td>222</td>\n",
       "      <td>{'WiFi': 'u'free'', 'RestaurantsPriceRange2': ...</td>\n",
       "      <td>Italian</td>\n",
       "      <td>GgCjStvmclW9uedJa_tTlA</td>\n",
       "      <td>5</td>\n",
       "      <td>Very good restaurant, they have many choices a...</td>\n",
       "      <td>2018-09-03 02:54:29</td>\n",
       "    </tr>\n",
       "    <tr>\n",
       "      <th>3</th>\n",
       "      <td>AN0bWhisCf6LN9eHZ7DQ3w</td>\n",
       "      <td>Los Olivos Ristorante</td>\n",
       "      <td>3759 E Desert Inn Rd</td>\n",
       "      <td>Las Vegas</td>\n",
       "      <td>NV</td>\n",
       "      <td>89121</td>\n",
       "      <td>36.129178</td>\n",
       "      <td>-115.092483</td>\n",
       "      <td>5.0</td>\n",
       "      <td>222</td>\n",
       "      <td>{'WiFi': 'u'free'', 'RestaurantsPriceRange2': ...</td>\n",
       "      <td>Italian</td>\n",
       "      <td>4CR7rQLHuXZpfLzDvqlaIA</td>\n",
       "      <td>5</td>\n",
       "      <td>Awsome little Italian place. Never would have ...</td>\n",
       "      <td>2018-06-19 17:20:53</td>\n",
       "    </tr>\n",
       "    <tr>\n",
       "      <th>4</th>\n",
       "      <td>AN0bWhisCf6LN9eHZ7DQ3w</td>\n",
       "      <td>Los Olivos Ristorante</td>\n",
       "      <td>3759 E Desert Inn Rd</td>\n",
       "      <td>Las Vegas</td>\n",
       "      <td>NV</td>\n",
       "      <td>89121</td>\n",
       "      <td>36.129178</td>\n",
       "      <td>-115.092483</td>\n",
       "      <td>5.0</td>\n",
       "      <td>222</td>\n",
       "      <td>{'WiFi': 'u'free'', 'RestaurantsPriceRange2': ...</td>\n",
       "      <td>Italian</td>\n",
       "      <td>UkBp300T1dfvMK8BLq08qQ</td>\n",
       "      <td>5</td>\n",
       "      <td>We moved back to Vegas about a year ago and he...</td>\n",
       "      <td>2018-08-05 03:13:21</td>\n",
       "    </tr>\n",
       "  </tbody>\n",
       "</table>\n",
       "</div>"
      ],
      "text/plain": [
       "              business_id                   name               address  \\\n",
       "0  0y6alZmSLnPzmG5_kP5Quw            J J's Pizza       20542 Lorain Rd   \n",
       "1  0y6alZmSLnPzmG5_kP5Quw            J J's Pizza       20542 Lorain Rd   \n",
       "2  AN0bWhisCf6LN9eHZ7DQ3w  Los Olivos Ristorante  3759 E Desert Inn Rd   \n",
       "3  AN0bWhisCf6LN9eHZ7DQ3w  Los Olivos Ristorante  3759 E Desert Inn Rd   \n",
       "4  AN0bWhisCf6LN9eHZ7DQ3w  Los Olivos Ristorante  3759 E Desert Inn Rd   \n",
       "\n",
       "            city state postal_code   latitude   longitude  stars  \\\n",
       "0  Fairview Park    OH       44126  41.448341  -81.847644    4.5   \n",
       "1  Fairview Park    OH       44126  41.448341  -81.847644    4.5   \n",
       "2      Las Vegas    NV       89121  36.129178 -115.092483    5.0   \n",
       "3      Las Vegas    NV       89121  36.129178 -115.092483    5.0   \n",
       "4      Las Vegas    NV       89121  36.129178 -115.092483    5.0   \n",
       "\n",
       "   review_count                                         attributes category  \\\n",
       "0            21  {'NoiseLevel': 'u'quiet'', 'WiFi': ''no'', 'Bu...  Italian   \n",
       "1            21  {'NoiseLevel': 'u'quiet'', 'WiFi': ''no'', 'Bu...  Italian   \n",
       "2           222  {'WiFi': 'u'free'', 'RestaurantsPriceRange2': ...  Italian   \n",
       "3           222  {'WiFi': 'u'free'', 'RestaurantsPriceRange2': ...  Italian   \n",
       "4           222  {'WiFi': 'u'free'', 'RestaurantsPriceRange2': ...  Italian   \n",
       "\n",
       "                  user_id  review_stars  \\\n",
       "0  6hVKlwEqIx8sge7Q-Dwctw             4   \n",
       "1  GgnVgDYZAptY1Q8QdSHfLg             4   \n",
       "2  GgCjStvmclW9uedJa_tTlA             5   \n",
       "3  4CR7rQLHuXZpfLzDvqlaIA             5   \n",
       "4  UkBp300T1dfvMK8BLq08qQ             5   \n",
       "\n",
       "                                                text                 date  \n",
       "0  I live in Cleveland but this store is close to...  2016-12-04 09:53:04  \n",
       "1  First time trying it. We ordered a variety of ...  2017-05-01 00:43:37  \n",
       "2  Very good restaurant, they have many choices a...  2018-09-03 02:54:29  \n",
       "3  Awsome little Italian place. Never would have ...  2018-06-19 17:20:53  \n",
       "4  We moved back to Vegas about a year ago and he...  2018-08-05 03:13:21  "
      ]
     },
     "execution_count": 15,
     "metadata": {},
     "output_type": "execute_result"
    }
   ],
   "source": [
    "df.head()"
   ]
  },
  {
   "cell_type": "code",
   "execution_count": 16,
   "metadata": {},
   "outputs": [],
   "source": [
    "## add column of number of words in review\n",
    "df['num_words_review'] = df.text.str.replace('\\n',''). \\\n",
    "                                          str.replace('[!\"#$%&\\()*+,-./:;<=>?@[\\\\]^_`{|}~]','').map(lambda x: len(x.split()))"
   ]
  },
  {
   "cell_type": "code",
   "execution_count": 17,
   "metadata": {},
   "outputs": [],
   "source": [
    "# label reviews as positive or negative\n",
    "df['labels'] = ''\n",
    "df.loc[df.review_stars >=4, 'labels'] = 'positive'\n",
    "df.loc[df.review_stars ==3, 'labels'] = 'neural'\n",
    "df.loc[df.review_stars <3, 'labels'] = 'negative'"
   ]
  },
  {
   "cell_type": "code",
   "execution_count": 18,
   "metadata": {},
   "outputs": [],
   "source": [
    "# drop neutral reviews because only want to look into postive and negative\n",
    "df.drop(df[df['labels'] =='neural'].index, axis=0, inplace=True)\n",
    "df.reset_index(drop=True, inplace=True)"
   ]
  },
  {
   "cell_type": "code",
   "execution_count": 21,
   "metadata": {},
   "outputs": [
    {
     "data": {
      "text/plain": [
       "(687338, 18)"
      ]
     },
     "execution_count": 21,
     "metadata": {},
     "output_type": "execute_result"
    }
   ],
   "source": [
    "df.shape"
   ]
  },
  {
   "cell_type": "code",
   "execution_count": null,
   "metadata": {},
   "outputs": [],
   "source": []
  },
  {
   "cell_type": "code",
   "execution_count": null,
   "metadata": {},
   "outputs": [],
   "source": []
  },
  {
   "cell_type": "code",
   "execution_count": null,
   "metadata": {},
   "outputs": [],
   "source": []
  },
  {
   "cell_type": "code",
   "execution_count": null,
   "metadata": {},
   "outputs": [],
   "source": []
  },
  {
   "cell_type": "code",
   "execution_count": null,
   "metadata": {},
   "outputs": [],
   "source": []
  },
  {
   "cell_type": "code",
   "execution_count": null,
   "metadata": {},
   "outputs": [],
   "source": []
  }
 ],
 "metadata": {
  "kernelspec": {
   "display_name": "Python 3",
   "language": "python",
   "name": "python3"
  },
  "language_info": {
   "codemirror_mode": {
    "name": "ipython",
    "version": 3
   },
   "file_extension": ".py",
   "mimetype": "text/x-python",
   "name": "python",
   "nbconvert_exporter": "python",
   "pygments_lexer": "ipython3",
   "version": "3.7.7"
  }
 },
 "nbformat": 4,
 "nbformat_minor": 4
}
