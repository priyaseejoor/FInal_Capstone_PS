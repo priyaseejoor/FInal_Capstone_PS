{
 "cells": [
  {
   "cell_type": "code",
   "execution_count": 21,
   "metadata": {},
   "outputs": [],
   "source": [
    "import pandas as pd\n",
    "import numpy as np\n",
    "import matplotlib.pyplot as plt\n",
    "import csv\n",
    "import statsmodels.formula.api as smf\n",
    "import sklearn.metrics\n",
    "from sklearn.metrics import confusion_matrix, accuracy_score\n",
    "from sklearn.model_selection import train_test_split\n",
    "from sklearn.linear_model import LogisticRegression\n",
    "from sklearn.feature_extraction.text import CountVectorizer\n",
    "from sklearn.feature_extraction.text import CountVectorizer\n",
    "from sklearn.svm import LinearSVC\n",
    "from sklearn.model_selection import train_test_split\n",
    "pd.set_option('display.float_format', lambda x: '%.4f' % x)"
   ]
  },
  {
   "cell_type": "code",
   "execution_count": 2,
   "metadata": {},
   "outputs": [],
   "source": [
    "df = pd.read_csv('/Users/priya/Documents/Final Capstone/yelp_dataset/Cleaned_Cusine_Data.csv',low_memory = False)"
   ]
  },
  {
   "cell_type": "code",
   "execution_count": 3,
   "metadata": {},
   "outputs": [
    {
     "data": {
      "text/html": [
       "<div>\n",
       "<style scoped>\n",
       "    .dataframe tbody tr th:only-of-type {\n",
       "        vertical-align: middle;\n",
       "    }\n",
       "\n",
       "    .dataframe tbody tr th {\n",
       "        vertical-align: top;\n",
       "    }\n",
       "\n",
       "    .dataframe thead th {\n",
       "        text-align: right;\n",
       "    }\n",
       "</style>\n",
       "<table border=\"1\" class=\"dataframe\">\n",
       "  <thead>\n",
       "    <tr style=\"text-align: right;\">\n",
       "      <th></th>\n",
       "      <th>Unnamed: 0</th>\n",
       "      <th>business_id</th>\n",
       "      <th>name</th>\n",
       "      <th>address</th>\n",
       "      <th>city</th>\n",
       "      <th>state</th>\n",
       "      <th>postal_code</th>\n",
       "      <th>latitude</th>\n",
       "      <th>longitude</th>\n",
       "      <th>stars</th>\n",
       "      <th>review_count</th>\n",
       "      <th>attributes</th>\n",
       "      <th>category</th>\n",
       "      <th>user_id</th>\n",
       "      <th>review_stars</th>\n",
       "      <th>text</th>\n",
       "      <th>date</th>\n",
       "      <th>num_words_review</th>\n",
       "      <th>labels</th>\n",
       "    </tr>\n",
       "  </thead>\n",
       "  <tbody>\n",
       "    <tr>\n",
       "      <th>0</th>\n",
       "      <td>0</td>\n",
       "      <td>0y6alZmSLnPzmG5_kP5Quw</td>\n",
       "      <td>J J's Pizza</td>\n",
       "      <td>20542 Lorain Rd</td>\n",
       "      <td>Fairview Park</td>\n",
       "      <td>OH</td>\n",
       "      <td>44126</td>\n",
       "      <td>41.4483</td>\n",
       "      <td>-81.8476</td>\n",
       "      <td>4.5000</td>\n",
       "      <td>21</td>\n",
       "      <td>{'NoiseLevel': \"u'quiet'\", 'WiFi': \"'no'\", 'Bu...</td>\n",
       "      <td>Italian</td>\n",
       "      <td>6hVKlwEqIx8sge7Q-Dwctw</td>\n",
       "      <td>4</td>\n",
       "      <td>I live in Cleveland but this store is close to...</td>\n",
       "      <td>2016-12-04 09:53:04</td>\n",
       "      <td>235</td>\n",
       "      <td>positive</td>\n",
       "    </tr>\n",
       "    <tr>\n",
       "      <th>1</th>\n",
       "      <td>1</td>\n",
       "      <td>0y6alZmSLnPzmG5_kP5Quw</td>\n",
       "      <td>J J's Pizza</td>\n",
       "      <td>20542 Lorain Rd</td>\n",
       "      <td>Fairview Park</td>\n",
       "      <td>OH</td>\n",
       "      <td>44126</td>\n",
       "      <td>41.4483</td>\n",
       "      <td>-81.8476</td>\n",
       "      <td>4.5000</td>\n",
       "      <td>21</td>\n",
       "      <td>{'NoiseLevel': \"u'quiet'\", 'WiFi': \"'no'\", 'Bu...</td>\n",
       "      <td>Italian</td>\n",
       "      <td>GgnVgDYZAptY1Q8QdSHfLg</td>\n",
       "      <td>4</td>\n",
       "      <td>First time trying it. We ordered a variety of ...</td>\n",
       "      <td>2017-05-01 00:43:37</td>\n",
       "      <td>41</td>\n",
       "      <td>positive</td>\n",
       "    </tr>\n",
       "    <tr>\n",
       "      <th>2</th>\n",
       "      <td>2</td>\n",
       "      <td>AN0bWhisCf6LN9eHZ7DQ3w</td>\n",
       "      <td>Los Olivos Ristorante</td>\n",
       "      <td>3759 E Desert Inn Rd</td>\n",
       "      <td>Las Vegas</td>\n",
       "      <td>NV</td>\n",
       "      <td>89121</td>\n",
       "      <td>36.1292</td>\n",
       "      <td>-115.0925</td>\n",
       "      <td>5.0000</td>\n",
       "      <td>222</td>\n",
       "      <td>{'WiFi': \"u'free'\", 'RestaurantsPriceRange2': ...</td>\n",
       "      <td>Italian</td>\n",
       "      <td>GgCjStvmclW9uedJa_tTlA</td>\n",
       "      <td>5</td>\n",
       "      <td>Very good restaurant, they have many choices a...</td>\n",
       "      <td>2018-09-03 02:54:29</td>\n",
       "      <td>37</td>\n",
       "      <td>positive</td>\n",
       "    </tr>\n",
       "    <tr>\n",
       "      <th>3</th>\n",
       "      <td>3</td>\n",
       "      <td>AN0bWhisCf6LN9eHZ7DQ3w</td>\n",
       "      <td>Los Olivos Ristorante</td>\n",
       "      <td>3759 E Desert Inn Rd</td>\n",
       "      <td>Las Vegas</td>\n",
       "      <td>NV</td>\n",
       "      <td>89121</td>\n",
       "      <td>36.1292</td>\n",
       "      <td>-115.0925</td>\n",
       "      <td>5.0000</td>\n",
       "      <td>222</td>\n",
       "      <td>{'WiFi': \"u'free'\", 'RestaurantsPriceRange2': ...</td>\n",
       "      <td>Italian</td>\n",
       "      <td>4CR7rQLHuXZpfLzDvqlaIA</td>\n",
       "      <td>5</td>\n",
       "      <td>Awsome little Italian place. Never would have ...</td>\n",
       "      <td>2018-06-19 17:20:53</td>\n",
       "      <td>39</td>\n",
       "      <td>positive</td>\n",
       "    </tr>\n",
       "    <tr>\n",
       "      <th>4</th>\n",
       "      <td>4</td>\n",
       "      <td>AN0bWhisCf6LN9eHZ7DQ3w</td>\n",
       "      <td>Los Olivos Ristorante</td>\n",
       "      <td>3759 E Desert Inn Rd</td>\n",
       "      <td>Las Vegas</td>\n",
       "      <td>NV</td>\n",
       "      <td>89121</td>\n",
       "      <td>36.1292</td>\n",
       "      <td>-115.0925</td>\n",
       "      <td>5.0000</td>\n",
       "      <td>222</td>\n",
       "      <td>{'WiFi': \"u'free'\", 'RestaurantsPriceRange2': ...</td>\n",
       "      <td>Italian</td>\n",
       "      <td>UkBp300T1dfvMK8BLq08qQ</td>\n",
       "      <td>5</td>\n",
       "      <td>We moved back to Vegas about a year ago and he...</td>\n",
       "      <td>2018-08-05 03:13:21</td>\n",
       "      <td>145</td>\n",
       "      <td>positive</td>\n",
       "    </tr>\n",
       "  </tbody>\n",
       "</table>\n",
       "</div>"
      ],
      "text/plain": [
       "   Unnamed: 0             business_id                   name  \\\n",
       "0           0  0y6alZmSLnPzmG5_kP5Quw            J J's Pizza   \n",
       "1           1  0y6alZmSLnPzmG5_kP5Quw            J J's Pizza   \n",
       "2           2  AN0bWhisCf6LN9eHZ7DQ3w  Los Olivos Ristorante   \n",
       "3           3  AN0bWhisCf6LN9eHZ7DQ3w  Los Olivos Ristorante   \n",
       "4           4  AN0bWhisCf6LN9eHZ7DQ3w  Los Olivos Ristorante   \n",
       "\n",
       "                address           city state postal_code  latitude  longitude  \\\n",
       "0       20542 Lorain Rd  Fairview Park    OH       44126   41.4483   -81.8476   \n",
       "1       20542 Lorain Rd  Fairview Park    OH       44126   41.4483   -81.8476   \n",
       "2  3759 E Desert Inn Rd      Las Vegas    NV       89121   36.1292  -115.0925   \n",
       "3  3759 E Desert Inn Rd      Las Vegas    NV       89121   36.1292  -115.0925   \n",
       "4  3759 E Desert Inn Rd      Las Vegas    NV       89121   36.1292  -115.0925   \n",
       "\n",
       "   stars  review_count                                         attributes  \\\n",
       "0 4.5000            21  {'NoiseLevel': \"u'quiet'\", 'WiFi': \"'no'\", 'Bu...   \n",
       "1 4.5000            21  {'NoiseLevel': \"u'quiet'\", 'WiFi': \"'no'\", 'Bu...   \n",
       "2 5.0000           222  {'WiFi': \"u'free'\", 'RestaurantsPriceRange2': ...   \n",
       "3 5.0000           222  {'WiFi': \"u'free'\", 'RestaurantsPriceRange2': ...   \n",
       "4 5.0000           222  {'WiFi': \"u'free'\", 'RestaurantsPriceRange2': ...   \n",
       "\n",
       "  category                 user_id  review_stars  \\\n",
       "0  Italian  6hVKlwEqIx8sge7Q-Dwctw             4   \n",
       "1  Italian  GgnVgDYZAptY1Q8QdSHfLg             4   \n",
       "2  Italian  GgCjStvmclW9uedJa_tTlA             5   \n",
       "3  Italian  4CR7rQLHuXZpfLzDvqlaIA             5   \n",
       "4  Italian  UkBp300T1dfvMK8BLq08qQ             5   \n",
       "\n",
       "                                                text                 date  \\\n",
       "0  I live in Cleveland but this store is close to...  2016-12-04 09:53:04   \n",
       "1  First time trying it. We ordered a variety of ...  2017-05-01 00:43:37   \n",
       "2  Very good restaurant, they have many choices a...  2018-09-03 02:54:29   \n",
       "3  Awsome little Italian place. Never would have ...  2018-06-19 17:20:53   \n",
       "4  We moved back to Vegas about a year ago and he...  2018-08-05 03:13:21   \n",
       "\n",
       "   num_words_review    labels  \n",
       "0               235  positive  \n",
       "1                41  positive  \n",
       "2                37  positive  \n",
       "3                39  positive  \n",
       "4               145  positive  "
      ]
     },
     "execution_count": 3,
     "metadata": {},
     "output_type": "execute_result"
    }
   ],
   "source": [
    "df.head()"
   ]
  },
  {
   "cell_type": "code",
   "execution_count": 4,
   "metadata": {},
   "outputs": [],
   "source": [
    "df = df.drop(['Unnamed: 0','business_id','name','address','city','state','postal_code',\n",
    "              'latitude', 'longitude','stars','review_count','attributes','user_id','date','num_words_review'], \n",
    "             axis=1)"
   ]
  },
  {
   "cell_type": "code",
   "execution_count": 5,
   "metadata": {},
   "outputs": [],
   "source": [
    "df['binary_class'] = np.where(df['review_stars'] > 3, 1, 0)"
   ]
  },
  {
   "cell_type": "code",
   "execution_count": 6,
   "metadata": {},
   "outputs": [],
   "source": [
    "#convert text to lower case\n",
    "df.text = df.text.str.lower()"
   ]
  },
  {
   "cell_type": "code",
   "execution_count": 7,
   "metadata": {},
   "outputs": [],
   "source": [
    "#remove unnecessary punctuation\n",
    "df['cleaned_text'] = df.text.str.replace('\\n',''). \\\n",
    "                                          str.replace('[!\"#$%&\\()*+,-./:;<=>?@[\\\\]^_`{|}~]','')"
   ]
  },
  {
   "cell_type": "code",
   "execution_count": 8,
   "metadata": {},
   "outputs": [],
   "source": [
    "df = df.drop(['text'],axis=1)"
   ]
  },
  {
   "cell_type": "code",
   "execution_count": 9,
   "metadata": {},
   "outputs": [],
   "source": [
    "Japanese = df[df['category'].isin(['Japanese'])]\n",
    "Indian = df[df['category'].isin(['Indian'])]\n",
    "Greek = df[df['category'].isin(['Greek'])]\n",
    "French = df[df['category'].isin(['French'])]\n",
    "Korean = df[df['category'].isin(['Korean'])]\n",
    "Italian = df[df['category'].isin(['Italian'])]"
   ]
  },
  {
   "cell_type": "markdown",
   "metadata": {},
   "source": [
    "## Greek"
   ]
  },
  {
   "cell_type": "code",
   "execution_count": 32,
   "metadata": {},
   "outputs": [],
   "source": [
    "X_train, X_test, y_train, y_test = train_test_split(Greek['cleaned_text'], Greek['labels'], random_state = 0)"
   ]
  },
  {
   "cell_type": "code",
   "execution_count": 33,
   "metadata": {},
   "outputs": [
    {
     "data": {
      "text/plain": [
       "['000',\n",
       " '0002',\n",
       " '001lb',\n",
       " '01',\n",
       " '010',\n",
       " '010chicken',\n",
       " '010pizza',\n",
       " '020',\n",
       " '020317']"
      ]
     },
     "execution_count": 33,
     "metadata": {},
     "output_type": "execute_result"
    }
   ],
   "source": [
    "vect = CountVectorizer().fit(X_train)\n",
    "vect.get_feature_names()[1:10]"
   ]
  },
  {
   "cell_type": "code",
   "execution_count": 34,
   "metadata": {},
   "outputs": [],
   "source": [
    "X_train_vectorized = vect.transform(X_train)"
   ]
  },
  {
   "cell_type": "code",
   "execution_count": 35,
   "metadata": {},
   "outputs": [
    {
     "name": "stderr",
     "output_type": "stream",
     "text": [
      "/Users/priya/miniconda3/lib/python3.7/site-packages/sklearn/linear_model/_logistic.py:764: ConvergenceWarning: lbfgs failed to converge (status=1):\n",
      "STOP: TOTAL NO. of ITERATIONS REACHED LIMIT.\n",
      "\n",
      "Increase the number of iterations (max_iter) or scale the data as shown in:\n",
      "    https://scikit-learn.org/stable/modules/preprocessing.html\n",
      "Please also refer to the documentation for alternative solver options:\n",
      "    https://scikit-learn.org/stable/modules/linear_model.html#logistic-regression\n",
      "  extra_warning_msg=_LOGISTIC_SOLVER_CONVERGENCE_MSG)\n"
     ]
    },
    {
     "data": {
      "text/plain": [
       "LogisticRegression()"
      ]
     },
     "execution_count": 35,
     "metadata": {},
     "output_type": "execute_result"
    }
   ],
   "source": [
    "model = LogisticRegression()\n",
    "model.fit(X_train_vectorized, y_train)"
   ]
  },
  {
   "cell_type": "code",
   "execution_count": 36,
   "metadata": {},
   "outputs": [
    {
     "data": {
      "text/plain": [
       "array(['positive', 'negative', 'positive', ..., 'positive', 'positive',\n",
       "       'positive'], dtype=object)"
      ]
     },
     "execution_count": 36,
     "metadata": {},
     "output_type": "execute_result"
    }
   ],
   "source": [
    "predictions = model.predict(vect.transform(X_test))\n",
    "predictions"
   ]
  },
  {
   "cell_type": "code",
   "execution_count": 37,
   "metadata": {},
   "outputs": [
    {
     "data": {
      "text/plain": [
       "array([[ 1808,   253],\n",
       "       [  168, 10815]])"
      ]
     },
     "execution_count": 37,
     "metadata": {},
     "output_type": "execute_result"
    }
   ],
   "source": [
    "sklearn.metrics.confusion_matrix(y_test, predictions)"
   ]
  },
  {
   "cell_type": "code",
   "execution_count": 38,
   "metadata": {},
   "outputs": [
    {
     "data": {
      "text/html": [
       "<div>\n",
       "<style scoped>\n",
       "    .dataframe tbody tr th:only-of-type {\n",
       "        vertical-align: middle;\n",
       "    }\n",
       "\n",
       "    .dataframe tbody tr th {\n",
       "        vertical-align: top;\n",
       "    }\n",
       "\n",
       "    .dataframe thead th {\n",
       "        text-align: right;\n",
       "    }\n",
       "</style>\n",
       "<table border=\"1\" class=\"dataframe\">\n",
       "  <thead>\n",
       "    <tr style=\"text-align: right;\">\n",
       "      <th></th>\n",
       "      <th>Word</th>\n",
       "      <th>Coef</th>\n",
       "    </tr>\n",
       "  </thead>\n",
       "  <tbody>\n",
       "    <tr>\n",
       "      <th>30356</th>\n",
       "      <td>mediocre</td>\n",
       "      <td>-3.0238</td>\n",
       "    </tr>\n",
       "    <tr>\n",
       "      <th>54300</th>\n",
       "      <td>worst</td>\n",
       "      <td>-2.9940</td>\n",
       "    </tr>\n",
       "    <tr>\n",
       "      <th>6635</th>\n",
       "      <td>bland</td>\n",
       "      <td>-2.7751</td>\n",
       "    </tr>\n",
       "    <tr>\n",
       "      <th>14206</th>\n",
       "      <td>disappointing</td>\n",
       "      <td>-2.6872</td>\n",
       "    </tr>\n",
       "    <tr>\n",
       "      <th>14327</th>\n",
       "      <td>disgusting</td>\n",
       "      <td>-2.4960</td>\n",
       "    </tr>\n",
       "    <tr>\n",
       "      <th>...</th>\n",
       "      <td>...</td>\n",
       "      <td>...</td>\n",
       "    </tr>\n",
       "    <tr>\n",
       "      <th>3180</th>\n",
       "      <td>amazing</td>\n",
       "      <td>2.1759</td>\n",
       "    </tr>\n",
       "    <tr>\n",
       "      <th>16963</th>\n",
       "      <td>excellent</td>\n",
       "      <td>2.2234</td>\n",
       "    </tr>\n",
       "    <tr>\n",
       "      <th>13104</th>\n",
       "      <td>delicious</td>\n",
       "      <td>2.3540</td>\n",
       "    </tr>\n",
       "    <tr>\n",
       "      <th>17771</th>\n",
       "      <td>fantastic</td>\n",
       "      <td>2.3883</td>\n",
       "    </tr>\n",
       "    <tr>\n",
       "      <th>34739</th>\n",
       "      <td>outstanding</td>\n",
       "      <td>2.5105</td>\n",
       "    </tr>\n",
       "  </tbody>\n",
       "</table>\n",
       "<p>55545 rows × 2 columns</p>\n",
       "</div>"
      ],
      "text/plain": [
       "                Word    Coef\n",
       "30356       mediocre -3.0238\n",
       "54300          worst -2.9940\n",
       "6635           bland -2.7751\n",
       "14206  disappointing -2.6872\n",
       "14327     disgusting -2.4960\n",
       "...              ...     ...\n",
       "3180         amazing  2.1759\n",
       "16963      excellent  2.2234\n",
       "13104      delicious  2.3540\n",
       "17771      fantastic  2.3883\n",
       "34739    outstanding  2.5105\n",
       "\n",
       "[55545 rows x 2 columns]"
      ]
     },
     "execution_count": 38,
     "metadata": {},
     "output_type": "execute_result"
    }
   ],
   "source": [
    "feature_names = np.array(vect.get_feature_names())\n",
    "coef_index = model.coef_[0]\n",
    "new = pd.DataFrame({'Word':feature_names, 'Coef': coef_index})\n",
    "new.sort_values('Coef')"
   ]
  },
  {
   "cell_type": "markdown",
   "metadata": {},
   "source": [
    "## Indian"
   ]
  },
  {
   "cell_type": "code",
   "execution_count": 39,
   "metadata": {},
   "outputs": [],
   "source": [
    "X_train, X_test, y_train, y_test = train_test_split(Indian['cleaned_text'], Indian['labels'], random_state = 0)"
   ]
  },
  {
   "cell_type": "code",
   "execution_count": 40,
   "metadata": {},
   "outputs": [
    {
     "data": {
      "text/plain": [
       "['002', '0022', '005price', '00s', '010', '0100', '010113', '01132017', '012']"
      ]
     },
     "execution_count": 40,
     "metadata": {},
     "output_type": "execute_result"
    }
   ],
   "source": [
    "vect = CountVectorizer().fit(X_train)\n",
    "vect.get_feature_names()[1:10]"
   ]
  },
  {
   "cell_type": "code",
   "execution_count": 41,
   "metadata": {},
   "outputs": [],
   "source": [
    "X_train_vectorized = vect.transform(X_train)"
   ]
  },
  {
   "cell_type": "code",
   "execution_count": 42,
   "metadata": {},
   "outputs": [
    {
     "name": "stderr",
     "output_type": "stream",
     "text": [
      "/Users/priya/miniconda3/lib/python3.7/site-packages/sklearn/linear_model/_logistic.py:764: ConvergenceWarning: lbfgs failed to converge (status=1):\n",
      "STOP: TOTAL NO. of ITERATIONS REACHED LIMIT.\n",
      "\n",
      "Increase the number of iterations (max_iter) or scale the data as shown in:\n",
      "    https://scikit-learn.org/stable/modules/preprocessing.html\n",
      "Please also refer to the documentation for alternative solver options:\n",
      "    https://scikit-learn.org/stable/modules/linear_model.html#logistic-regression\n",
      "  extra_warning_msg=_LOGISTIC_SOLVER_CONVERGENCE_MSG)\n"
     ]
    },
    {
     "data": {
      "text/plain": [
       "LogisticRegression()"
      ]
     },
     "execution_count": 42,
     "metadata": {},
     "output_type": "execute_result"
    }
   ],
   "source": [
    "model = LogisticRegression()\n",
    "model.fit(X_train_vectorized, y_train)"
   ]
  },
  {
   "cell_type": "code",
   "execution_count": 43,
   "metadata": {},
   "outputs": [
    {
     "data": {
      "text/plain": [
       "array(['positive', 'positive', 'positive', ..., 'positive', 'positive',\n",
       "       'negative'], dtype=object)"
      ]
     },
     "execution_count": 43,
     "metadata": {},
     "output_type": "execute_result"
    }
   ],
   "source": [
    "predictions = model.predict(vect.transform(X_test))\n",
    "predictions"
   ]
  },
  {
   "cell_type": "code",
   "execution_count": 44,
   "metadata": {},
   "outputs": [
    {
     "data": {
      "text/plain": [
       "array([[1912,  267],\n",
       "       [ 170, 7920]])"
      ]
     },
     "execution_count": 44,
     "metadata": {},
     "output_type": "execute_result"
    }
   ],
   "source": [
    "sklearn.metrics.confusion_matrix(y_test, predictions)"
   ]
  },
  {
   "cell_type": "code",
   "execution_count": 45,
   "metadata": {},
   "outputs": [
    {
     "data": {
      "text/html": [
       "<div>\n",
       "<style scoped>\n",
       "    .dataframe tbody tr th:only-of-type {\n",
       "        vertical-align: middle;\n",
       "    }\n",
       "\n",
       "    .dataframe tbody tr th {\n",
       "        vertical-align: top;\n",
       "    }\n",
       "\n",
       "    .dataframe thead th {\n",
       "        text-align: right;\n",
       "    }\n",
       "</style>\n",
       "<table border=\"1\" class=\"dataframe\">\n",
       "  <thead>\n",
       "    <tr style=\"text-align: right;\">\n",
       "      <th></th>\n",
       "      <th>Word</th>\n",
       "      <th>Coef</th>\n",
       "    </tr>\n",
       "  </thead>\n",
       "  <tbody>\n",
       "    <tr>\n",
       "      <th>27904</th>\n",
       "      <td>mediocre</td>\n",
       "      <td>-3.3739</td>\n",
       "    </tr>\n",
       "    <tr>\n",
       "      <th>50395</th>\n",
       "      <td>worst</td>\n",
       "      <td>-3.3106</td>\n",
       "    </tr>\n",
       "    <tr>\n",
       "      <th>6490</th>\n",
       "      <td>bland</td>\n",
       "      <td>-2.8902</td>\n",
       "    </tr>\n",
       "    <tr>\n",
       "      <th>44901</th>\n",
       "      <td>terrible</td>\n",
       "      <td>-2.4306</td>\n",
       "    </tr>\n",
       "    <tr>\n",
       "      <th>21974</th>\n",
       "      <td>horrible</td>\n",
       "      <td>-2.4188</td>\n",
       "    </tr>\n",
       "    <tr>\n",
       "      <th>...</th>\n",
       "      <td>...</td>\n",
       "      <td>...</td>\n",
       "    </tr>\n",
       "    <tr>\n",
       "      <th>33489</th>\n",
       "      <td>perfect</td>\n",
       "      <td>2.3350</td>\n",
       "    </tr>\n",
       "    <tr>\n",
       "      <th>3211</th>\n",
       "      <td>amazing</td>\n",
       "      <td>2.4804</td>\n",
       "    </tr>\n",
       "    <tr>\n",
       "      <th>12546</th>\n",
       "      <td>delicious</td>\n",
       "      <td>2.5334</td>\n",
       "    </tr>\n",
       "    <tr>\n",
       "      <th>16756</th>\n",
       "      <td>fantastic</td>\n",
       "      <td>2.5846</td>\n",
       "    </tr>\n",
       "    <tr>\n",
       "      <th>16090</th>\n",
       "      <td>excellent</td>\n",
       "      <td>2.6658</td>\n",
       "    </tr>\n",
       "  </tbody>\n",
       "</table>\n",
       "<p>51191 rows × 2 columns</p>\n",
       "</div>"
      ],
      "text/plain": [
       "            Word    Coef\n",
       "27904   mediocre -3.3739\n",
       "50395      worst -3.3106\n",
       "6490       bland -2.8902\n",
       "44901   terrible -2.4306\n",
       "21974   horrible -2.4188\n",
       "...          ...     ...\n",
       "33489    perfect  2.3350\n",
       "3211     amazing  2.4804\n",
       "12546  delicious  2.5334\n",
       "16756  fantastic  2.5846\n",
       "16090  excellent  2.6658\n",
       "\n",
       "[51191 rows x 2 columns]"
      ]
     },
     "execution_count": 45,
     "metadata": {},
     "output_type": "execute_result"
    }
   ],
   "source": [
    "feature_names = np.array(vect.get_feature_names())\n",
    "coef_index = model.coef_[0]\n",
    "new = pd.DataFrame({'Word':feature_names, 'Coef': coef_index})\n",
    "new.sort_values('Coef')"
   ]
  },
  {
   "cell_type": "markdown",
   "metadata": {},
   "source": [
    "## Japanese"
   ]
  },
  {
   "cell_type": "code",
   "execution_count": 47,
   "metadata": {},
   "outputs": [],
   "source": [
    "X_train, X_test, y_train, y_test = train_test_split(Japanese['cleaned_text'], Japanese['labels'], random_state = 0)"
   ]
  },
  {
   "cell_type": "code",
   "execution_count": 48,
   "metadata": {},
   "outputs": [
    {
     "data": {
      "text/plain": [
       "['000', '0001', '001', '0022note', '007', '007i', '00s', '00so', '01']"
      ]
     },
     "execution_count": 48,
     "metadata": {},
     "output_type": "execute_result"
    }
   ],
   "source": [
    "vect = CountVectorizer().fit(X_train)\n",
    "vect.get_feature_names()[1:10]"
   ]
  },
  {
   "cell_type": "code",
   "execution_count": 49,
   "metadata": {},
   "outputs": [],
   "source": [
    "X_train_vectorized = vect.transform(X_train)"
   ]
  },
  {
   "cell_type": "code",
   "execution_count": 50,
   "metadata": {},
   "outputs": [
    {
     "name": "stderr",
     "output_type": "stream",
     "text": [
      "/Users/priya/miniconda3/lib/python3.7/site-packages/sklearn/linear_model/_logistic.py:764: ConvergenceWarning: lbfgs failed to converge (status=1):\n",
      "STOP: TOTAL NO. of ITERATIONS REACHED LIMIT.\n",
      "\n",
      "Increase the number of iterations (max_iter) or scale the data as shown in:\n",
      "    https://scikit-learn.org/stable/modules/preprocessing.html\n",
      "Please also refer to the documentation for alternative solver options:\n",
      "    https://scikit-learn.org/stable/modules/linear_model.html#logistic-regression\n",
      "  extra_warning_msg=_LOGISTIC_SOLVER_CONVERGENCE_MSG)\n"
     ]
    },
    {
     "data": {
      "text/plain": [
       "LogisticRegression()"
      ]
     },
     "execution_count": 50,
     "metadata": {},
     "output_type": "execute_result"
    }
   ],
   "source": [
    "model = LogisticRegression()\n",
    "model.fit(X_train_vectorized, y_train)"
   ]
  },
  {
   "cell_type": "code",
   "execution_count": 51,
   "metadata": {},
   "outputs": [
    {
     "data": {
      "text/plain": [
       "array(['negative', 'positive', 'positive', ..., 'positive', 'positive',\n",
       "       'positive'], dtype=object)"
      ]
     },
     "execution_count": 51,
     "metadata": {},
     "output_type": "execute_result"
    }
   ],
   "source": [
    "predictions = model.predict(vect.transform(X_test))\n",
    "predictions"
   ]
  },
  {
   "cell_type": "code",
   "execution_count": 52,
   "metadata": {},
   "outputs": [
    {
     "data": {
      "text/plain": [
       "array([[ 8453,  1061],\n",
       "       [  792, 42502]])"
      ]
     },
     "execution_count": 52,
     "metadata": {},
     "output_type": "execute_result"
    }
   ],
   "source": [
    "sklearn.metrics.confusion_matrix(y_test, predictions)"
   ]
  },
  {
   "cell_type": "code",
   "execution_count": 53,
   "metadata": {},
   "outputs": [
    {
     "data": {
      "text/html": [
       "<div>\n",
       "<style scoped>\n",
       "    .dataframe tbody tr th:only-of-type {\n",
       "        vertical-align: middle;\n",
       "    }\n",
       "\n",
       "    .dataframe tbody tr th {\n",
       "        vertical-align: top;\n",
       "    }\n",
       "\n",
       "    .dataframe thead th {\n",
       "        text-align: right;\n",
       "    }\n",
       "</style>\n",
       "<table border=\"1\" class=\"dataframe\">\n",
       "  <thead>\n",
       "    <tr style=\"text-align: right;\">\n",
       "      <th></th>\n",
       "      <th>Word</th>\n",
       "      <th>Coef</th>\n",
       "    </tr>\n",
       "  </thead>\n",
       "  <tbody>\n",
       "    <tr>\n",
       "      <th>100290</th>\n",
       "      <td>poisoning</td>\n",
       "      <td>-3.2393</td>\n",
       "    </tr>\n",
       "    <tr>\n",
       "      <th>81425</th>\n",
       "      <td>meh</td>\n",
       "      <td>-3.1510</td>\n",
       "    </tr>\n",
       "    <tr>\n",
       "      <th>81259</th>\n",
       "      <td>mediocre</td>\n",
       "      <td>-3.1365</td>\n",
       "    </tr>\n",
       "    <tr>\n",
       "      <th>39849</th>\n",
       "      <td>disgusting</td>\n",
       "      <td>-3.0148</td>\n",
       "    </tr>\n",
       "    <tr>\n",
       "      <th>130458</th>\n",
       "      <td>tasteless</td>\n",
       "      <td>-3.0110</td>\n",
       "    </tr>\n",
       "    <tr>\n",
       "      <th>...</th>\n",
       "      <td>...</td>\n",
       "      <td>...</td>\n",
       "    </tr>\n",
       "    <tr>\n",
       "      <th>121454</th>\n",
       "      <td>solid</td>\n",
       "      <td>2.4224</td>\n",
       "    </tr>\n",
       "    <tr>\n",
       "      <th>36975</th>\n",
       "      <td>delicious</td>\n",
       "      <td>2.5794</td>\n",
       "    </tr>\n",
       "    <tr>\n",
       "      <th>97831</th>\n",
       "      <td>phenomenal</td>\n",
       "      <td>2.5803</td>\n",
       "    </tr>\n",
       "    <tr>\n",
       "      <th>39431</th>\n",
       "      <td>disappoint</td>\n",
       "      <td>2.8128</td>\n",
       "    </tr>\n",
       "    <tr>\n",
       "      <th>67369</th>\n",
       "      <td>incredible</td>\n",
       "      <td>2.9976</td>\n",
       "    </tr>\n",
       "  </tbody>\n",
       "</table>\n",
       "<p>153235 rows × 2 columns</p>\n",
       "</div>"
      ],
      "text/plain": [
       "              Word    Coef\n",
       "100290   poisoning -3.2393\n",
       "81425          meh -3.1510\n",
       "81259     mediocre -3.1365\n",
       "39849   disgusting -3.0148\n",
       "130458   tasteless -3.0110\n",
       "...            ...     ...\n",
       "121454       solid  2.4224\n",
       "36975    delicious  2.5794\n",
       "97831   phenomenal  2.5803\n",
       "39431   disappoint  2.8128\n",
       "67369   incredible  2.9976\n",
       "\n",
       "[153235 rows x 2 columns]"
      ]
     },
     "execution_count": 53,
     "metadata": {},
     "output_type": "execute_result"
    }
   ],
   "source": [
    "feature_names = np.array(vect.get_feature_names())\n",
    "coef_index = model.coef_[0]\n",
    "new = pd.DataFrame({'Word':feature_names, 'Coef': coef_index})\n",
    "new.sort_values('Coef')"
   ]
  },
  {
   "cell_type": "markdown",
   "metadata": {},
   "source": [
    "## Italian"
   ]
  },
  {
   "cell_type": "code",
   "execution_count": 54,
   "metadata": {},
   "outputs": [],
   "source": [
    "X_train, X_test, y_train, y_test = train_test_split(Italian['cleaned_text'], Italian['labels'], random_state = 0)"
   ]
  },
  {
   "cell_type": "code",
   "execution_count": 55,
   "metadata": {},
   "outputs": [
    {
     "data": {
      "text/plain": [
       "['000', '0000', '00000', '000000', '00005', '0001', '001', '00100g', '00184']"
      ]
     },
     "execution_count": 55,
     "metadata": {},
     "output_type": "execute_result"
    }
   ],
   "source": [
    "vect = CountVectorizer().fit(X_train)\n",
    "vect.get_feature_names()[1:10]"
   ]
  },
  {
   "cell_type": "code",
   "execution_count": 56,
   "metadata": {},
   "outputs": [],
   "source": [
    "X_train_vectorized = vect.transform(X_train)"
   ]
  },
  {
   "cell_type": "code",
   "execution_count": 57,
   "metadata": {},
   "outputs": [
    {
     "name": "stderr",
     "output_type": "stream",
     "text": [
      "/Users/priya/miniconda3/lib/python3.7/site-packages/sklearn/linear_model/_logistic.py:764: ConvergenceWarning: lbfgs failed to converge (status=1):\n",
      "STOP: TOTAL NO. of ITERATIONS REACHED LIMIT.\n",
      "\n",
      "Increase the number of iterations (max_iter) or scale the data as shown in:\n",
      "    https://scikit-learn.org/stable/modules/preprocessing.html\n",
      "Please also refer to the documentation for alternative solver options:\n",
      "    https://scikit-learn.org/stable/modules/linear_model.html#logistic-regression\n",
      "  extra_warning_msg=_LOGISTIC_SOLVER_CONVERGENCE_MSG)\n"
     ]
    },
    {
     "data": {
      "text/plain": [
       "LogisticRegression()"
      ]
     },
     "execution_count": 57,
     "metadata": {},
     "output_type": "execute_result"
    }
   ],
   "source": [
    "model = LogisticRegression()\n",
    "model.fit(X_train_vectorized, y_train)"
   ]
  },
  {
   "cell_type": "code",
   "execution_count": 58,
   "metadata": {},
   "outputs": [
    {
     "data": {
      "text/plain": [
       "array(['negative', 'positive', 'negative', ..., 'positive', 'positive',\n",
       "       'positive'], dtype=object)"
      ]
     },
     "execution_count": 58,
     "metadata": {},
     "output_type": "execute_result"
    }
   ],
   "source": [
    "predictions = model.predict(vect.transform(X_test))\n",
    "predictions"
   ]
  },
  {
   "cell_type": "code",
   "execution_count": 59,
   "metadata": {},
   "outputs": [
    {
     "data": {
      "text/plain": [
       "array([[14882,  1491],\n",
       "       [ 1154, 53454]])"
      ]
     },
     "execution_count": 59,
     "metadata": {},
     "output_type": "execute_result"
    }
   ],
   "source": [
    "sklearn.metrics.confusion_matrix(y_test, predictions)"
   ]
  },
  {
   "cell_type": "code",
   "execution_count": 60,
   "metadata": {},
   "outputs": [
    {
     "data": {
      "text/html": [
       "<div>\n",
       "<style scoped>\n",
       "    .dataframe tbody tr th:only-of-type {\n",
       "        vertical-align: middle;\n",
       "    }\n",
       "\n",
       "    .dataframe tbody tr th {\n",
       "        vertical-align: top;\n",
       "    }\n",
       "\n",
       "    .dataframe thead th {\n",
       "        text-align: right;\n",
       "    }\n",
       "</style>\n",
       "<table border=\"1\" class=\"dataframe\">\n",
       "  <thead>\n",
       "    <tr style=\"text-align: right;\">\n",
       "      <th></th>\n",
       "      <th>Word</th>\n",
       "      <th>Coef</th>\n",
       "    </tr>\n",
       "  </thead>\n",
       "  <tbody>\n",
       "    <tr>\n",
       "      <th>132392</th>\n",
       "      <td>poisoning</td>\n",
       "      <td>-3.6685</td>\n",
       "    </tr>\n",
       "    <tr>\n",
       "      <th>168614</th>\n",
       "      <td>tasteless</td>\n",
       "      <td>-2.9698</td>\n",
       "    </tr>\n",
       "    <tr>\n",
       "      <th>145956</th>\n",
       "      <td>ruined</td>\n",
       "      <td>-2.8920</td>\n",
       "    </tr>\n",
       "    <tr>\n",
       "      <th>179192</th>\n",
       "      <td>undercooked</td>\n",
       "      <td>-2.8290</td>\n",
       "    </tr>\n",
       "    <tr>\n",
       "      <th>53433</th>\n",
       "      <td>disgusting</td>\n",
       "      <td>-2.6210</td>\n",
       "    </tr>\n",
       "    <tr>\n",
       "      <th>...</th>\n",
       "      <td>...</td>\n",
       "      <td>...</td>\n",
       "    </tr>\n",
       "    <tr>\n",
       "      <th>52853</th>\n",
       "      <td>disappoint</td>\n",
       "      <td>2.3881</td>\n",
       "    </tr>\n",
       "    <tr>\n",
       "      <th>88798</th>\n",
       "      <td>incredible</td>\n",
       "      <td>2.5508</td>\n",
       "    </tr>\n",
       "    <tr>\n",
       "      <th>165963</th>\n",
       "      <td>superb</td>\n",
       "      <td>2.7732</td>\n",
       "    </tr>\n",
       "    <tr>\n",
       "      <th>128147</th>\n",
       "      <td>phenomenal</td>\n",
       "      <td>2.8179</td>\n",
       "    </tr>\n",
       "    <tr>\n",
       "      <th>127099</th>\n",
       "      <td>perfection</td>\n",
       "      <td>3.4882</td>\n",
       "    </tr>\n",
       "  </tbody>\n",
       "</table>\n",
       "<p>194504 rows × 2 columns</p>\n",
       "</div>"
      ],
      "text/plain": [
       "               Word    Coef\n",
       "132392    poisoning -3.6685\n",
       "168614    tasteless -2.9698\n",
       "145956       ruined -2.8920\n",
       "179192  undercooked -2.8290\n",
       "53433    disgusting -2.6210\n",
       "...             ...     ...\n",
       "52853    disappoint  2.3881\n",
       "88798    incredible  2.5508\n",
       "165963       superb  2.7732\n",
       "128147   phenomenal  2.8179\n",
       "127099   perfection  3.4882\n",
       "\n",
       "[194504 rows x 2 columns]"
      ]
     },
     "execution_count": 60,
     "metadata": {},
     "output_type": "execute_result"
    }
   ],
   "source": [
    "feature_names = np.array(vect.get_feature_names())\n",
    "coef_index = model.coef_[0]\n",
    "new = pd.DataFrame({'Word':feature_names, 'Coef': coef_index})\n",
    "new.sort_values('Coef')"
   ]
  },
  {
   "cell_type": "markdown",
   "metadata": {},
   "source": [
    "## Korean"
   ]
  },
  {
   "cell_type": "code",
   "execution_count": 61,
   "metadata": {},
   "outputs": [],
   "source": [
    "X_train, X_test, y_train, y_test = train_test_split(Korean['cleaned_text'], Korean['labels'], random_state = 0)"
   ]
  },
  {
   "cell_type": "code",
   "execution_count": 62,
   "metadata": {},
   "outputs": [
    {
     "data": {
      "text/plain": [
       "['000000', '001', '0045', '00s', '010', '010919', '011019', '01162017', '02']"
      ]
     },
     "execution_count": 62,
     "metadata": {},
     "output_type": "execute_result"
    }
   ],
   "source": [
    "vect = CountVectorizer().fit(X_train)\n",
    "vect.get_feature_names()[1:10]"
   ]
  },
  {
   "cell_type": "code",
   "execution_count": 63,
   "metadata": {},
   "outputs": [],
   "source": [
    "X_train_vectorized = vect.transform(X_train)"
   ]
  },
  {
   "cell_type": "code",
   "execution_count": 64,
   "metadata": {},
   "outputs": [
    {
     "name": "stderr",
     "output_type": "stream",
     "text": [
      "/Users/priya/miniconda3/lib/python3.7/site-packages/sklearn/linear_model/_logistic.py:764: ConvergenceWarning: lbfgs failed to converge (status=1):\n",
      "STOP: TOTAL NO. of ITERATIONS REACHED LIMIT.\n",
      "\n",
      "Increase the number of iterations (max_iter) or scale the data as shown in:\n",
      "    https://scikit-learn.org/stable/modules/preprocessing.html\n",
      "Please also refer to the documentation for alternative solver options:\n",
      "    https://scikit-learn.org/stable/modules/linear_model.html#logistic-regression\n",
      "  extra_warning_msg=_LOGISTIC_SOLVER_CONVERGENCE_MSG)\n"
     ]
    },
    {
     "data": {
      "text/plain": [
       "LogisticRegression()"
      ]
     },
     "execution_count": 64,
     "metadata": {},
     "output_type": "execute_result"
    }
   ],
   "source": [
    "model = LogisticRegression()\n",
    "model.fit(X_train_vectorized, y_train)"
   ]
  },
  {
   "cell_type": "code",
   "execution_count": 65,
   "metadata": {},
   "outputs": [
    {
     "data": {
      "text/plain": [
       "array(['negative', 'positive', 'positive', ..., 'negative', 'positive',\n",
       "       'positive'], dtype=object)"
      ]
     },
     "execution_count": 65,
     "metadata": {},
     "output_type": "execute_result"
    }
   ],
   "source": [
    "predictions = model.predict(vect.transform(X_test))\n",
    "predictions"
   ]
  },
  {
   "cell_type": "code",
   "execution_count": 66,
   "metadata": {},
   "outputs": [
    {
     "data": {
      "text/plain": [
       "array([[1694,  248],\n",
       "       [ 200, 9309]])"
      ]
     },
     "execution_count": 66,
     "metadata": {},
     "output_type": "execute_result"
    }
   ],
   "source": [
    "sklearn.metrics.confusion_matrix(y_test, predictions)"
   ]
  },
  {
   "cell_type": "code",
   "execution_count": 67,
   "metadata": {},
   "outputs": [
    {
     "data": {
      "text/html": [
       "<div>\n",
       "<style scoped>\n",
       "    .dataframe tbody tr th:only-of-type {\n",
       "        vertical-align: middle;\n",
       "    }\n",
       "\n",
       "    .dataframe tbody tr th {\n",
       "        vertical-align: top;\n",
       "    }\n",
       "\n",
       "    .dataframe thead th {\n",
       "        text-align: right;\n",
       "    }\n",
       "</style>\n",
       "<table border=\"1\" class=\"dataframe\">\n",
       "  <thead>\n",
       "    <tr style=\"text-align: right;\">\n",
       "      <th></th>\n",
       "      <th>Word</th>\n",
       "      <th>Coef</th>\n",
       "    </tr>\n",
       "  </thead>\n",
       "  <tbody>\n",
       "    <tr>\n",
       "      <th>36322</th>\n",
       "      <td>poor</td>\n",
       "      <td>-2.9351</td>\n",
       "    </tr>\n",
       "    <tr>\n",
       "      <th>29815</th>\n",
       "      <td>meh</td>\n",
       "      <td>-2.8615</td>\n",
       "    </tr>\n",
       "    <tr>\n",
       "      <th>29763</th>\n",
       "      <td>mediocre</td>\n",
       "      <td>-2.7613</td>\n",
       "    </tr>\n",
       "    <tr>\n",
       "      <th>14399</th>\n",
       "      <td>disgusting</td>\n",
       "      <td>-2.6128</td>\n",
       "    </tr>\n",
       "    <tr>\n",
       "      <th>52782</th>\n",
       "      <td>worst</td>\n",
       "      <td>-2.5980</td>\n",
       "    </tr>\n",
       "    <tr>\n",
       "      <th>...</th>\n",
       "      <td>...</td>\n",
       "      <td>...</td>\n",
       "    </tr>\n",
       "    <tr>\n",
       "      <th>3424</th>\n",
       "      <td>amazing</td>\n",
       "      <td>2.3206</td>\n",
       "    </tr>\n",
       "    <tr>\n",
       "      <th>52594</th>\n",
       "      <td>wonderful</td>\n",
       "      <td>2.5343</td>\n",
       "    </tr>\n",
       "    <tr>\n",
       "      <th>53567</th>\n",
       "      <td>yummy</td>\n",
       "      <td>2.6146</td>\n",
       "    </tr>\n",
       "    <tr>\n",
       "      <th>17062</th>\n",
       "      <td>excellent</td>\n",
       "      <td>2.6208</td>\n",
       "    </tr>\n",
       "    <tr>\n",
       "      <th>13413</th>\n",
       "      <td>delicious</td>\n",
       "      <td>2.8358</td>\n",
       "    </tr>\n",
       "  </tbody>\n",
       "</table>\n",
       "<p>53975 rows × 2 columns</p>\n",
       "</div>"
      ],
      "text/plain": [
       "             Word    Coef\n",
       "36322        poor -2.9351\n",
       "29815         meh -2.8615\n",
       "29763    mediocre -2.7613\n",
       "14399  disgusting -2.6128\n",
       "52782       worst -2.5980\n",
       "...           ...     ...\n",
       "3424      amazing  2.3206\n",
       "52594   wonderful  2.5343\n",
       "53567       yummy  2.6146\n",
       "17062   excellent  2.6208\n",
       "13413   delicious  2.8358\n",
       "\n",
       "[53975 rows x 2 columns]"
      ]
     },
     "execution_count": 67,
     "metadata": {},
     "output_type": "execute_result"
    }
   ],
   "source": [
    "feature_names = np.array(vect.get_feature_names())\n",
    "coef_index = model.coef_[0]\n",
    "new = pd.DataFrame({'Word':feature_names, 'Coef': coef_index})\n",
    "new.sort_values('Coef')"
   ]
  },
  {
   "cell_type": "markdown",
   "metadata": {},
   "source": [
    "## French"
   ]
  },
  {
   "cell_type": "code",
   "execution_count": 68,
   "metadata": {},
   "outputs": [],
   "source": [
    "X_train, X_test, y_train, y_test = train_test_split(French['cleaned_text'], French['labels'], random_state = 0)"
   ]
  },
  {
   "cell_type": "code",
   "execution_count": 69,
   "metadata": {},
   "outputs": [
    {
     "data": {
      "text/plain": [
       "['00000', '01', '010', '01032019', '012018', '0193', '01mar2015', '02', '020']"
      ]
     },
     "execution_count": 69,
     "metadata": {},
     "output_type": "execute_result"
    }
   ],
   "source": [
    "vect = CountVectorizer().fit(X_train)\n",
    "vect.get_feature_names()[1:10]"
   ]
  },
  {
   "cell_type": "code",
   "execution_count": 70,
   "metadata": {},
   "outputs": [],
   "source": [
    "X_train_vectorized = vect.transform(X_train)"
   ]
  },
  {
   "cell_type": "code",
   "execution_count": 71,
   "metadata": {},
   "outputs": [
    {
     "name": "stderr",
     "output_type": "stream",
     "text": [
      "/Users/priya/miniconda3/lib/python3.7/site-packages/sklearn/linear_model/_logistic.py:764: ConvergenceWarning: lbfgs failed to converge (status=1):\n",
      "STOP: TOTAL NO. of ITERATIONS REACHED LIMIT.\n",
      "\n",
      "Increase the number of iterations (max_iter) or scale the data as shown in:\n",
      "    https://scikit-learn.org/stable/modules/preprocessing.html\n",
      "Please also refer to the documentation for alternative solver options:\n",
      "    https://scikit-learn.org/stable/modules/linear_model.html#logistic-regression\n",
      "  extra_warning_msg=_LOGISTIC_SOLVER_CONVERGENCE_MSG)\n"
     ]
    },
    {
     "data": {
      "text/plain": [
       "LogisticRegression()"
      ]
     },
     "execution_count": 71,
     "metadata": {},
     "output_type": "execute_result"
    }
   ],
   "source": [
    "model = LogisticRegression()\n",
    "model.fit(X_train_vectorized, y_train)"
   ]
  },
  {
   "cell_type": "code",
   "execution_count": 72,
   "metadata": {},
   "outputs": [
    {
     "data": {
      "text/plain": [
       "array(['positive', 'positive', 'positive', ..., 'positive', 'positive',\n",
       "       'positive'], dtype=object)"
      ]
     },
     "execution_count": 72,
     "metadata": {},
     "output_type": "execute_result"
    }
   ],
   "source": [
    "predictions = model.predict(vect.transform(X_test))\n",
    "predictions"
   ]
  },
  {
   "cell_type": "code",
   "execution_count": 73,
   "metadata": {},
   "outputs": [
    {
     "data": {
      "text/plain": [
       "array([[ 1841,   304],\n",
       "       [  202, 10936]])"
      ]
     },
     "execution_count": 73,
     "metadata": {},
     "output_type": "execute_result"
    }
   ],
   "source": [
    "sklearn.metrics.confusion_matrix(y_test, predictions)"
   ]
  },
  {
   "cell_type": "code",
   "execution_count": 74,
   "metadata": {},
   "outputs": [
    {
     "data": {
      "text/html": [
       "<div>\n",
       "<style scoped>\n",
       "    .dataframe tbody tr th:only-of-type {\n",
       "        vertical-align: middle;\n",
       "    }\n",
       "\n",
       "    .dataframe tbody tr th {\n",
       "        vertical-align: top;\n",
       "    }\n",
       "\n",
       "    .dataframe thead th {\n",
       "        text-align: right;\n",
       "    }\n",
       "</style>\n",
       "<table border=\"1\" class=\"dataframe\">\n",
       "  <thead>\n",
       "    <tr style=\"text-align: right;\">\n",
       "      <th></th>\n",
       "      <th>Word</th>\n",
       "      <th>Coef</th>\n",
       "    </tr>\n",
       "  </thead>\n",
       "  <tbody>\n",
       "    <tr>\n",
       "      <th>45691</th>\n",
       "      <td>mediocre</td>\n",
       "      <td>-3.8801</td>\n",
       "    </tr>\n",
       "    <tr>\n",
       "      <th>80979</th>\n",
       "      <td>worst</td>\n",
       "      <td>-3.8022</td>\n",
       "    </tr>\n",
       "    <tr>\n",
       "      <th>36987</th>\n",
       "      <td>horrible</td>\n",
       "      <td>-2.8048</td>\n",
       "    </tr>\n",
       "    <tr>\n",
       "      <th>45789</th>\n",
       "      <td>meh</td>\n",
       "      <td>-2.6312</td>\n",
       "    </tr>\n",
       "    <tr>\n",
       "      <th>71773</th>\n",
       "      <td>tasteless</td>\n",
       "      <td>-2.6291</td>\n",
       "    </tr>\n",
       "    <tr>\n",
       "      <th>...</th>\n",
       "      <td>...</td>\n",
       "      <td>...</td>\n",
       "    </tr>\n",
       "    <tr>\n",
       "      <th>21250</th>\n",
       "      <td>delicious</td>\n",
       "      <td>1.8543</td>\n",
       "    </tr>\n",
       "    <tr>\n",
       "      <th>38532</th>\n",
       "      <td>incredible</td>\n",
       "      <td>1.9357</td>\n",
       "    </tr>\n",
       "    <tr>\n",
       "      <th>4854</th>\n",
       "      <td>amazing</td>\n",
       "      <td>1.9636</td>\n",
       "    </tr>\n",
       "    <tr>\n",
       "      <th>54593</th>\n",
       "      <td>perfectly</td>\n",
       "      <td>2.4662</td>\n",
       "    </tr>\n",
       "    <tr>\n",
       "      <th>54530</th>\n",
       "      <td>perfection</td>\n",
       "      <td>2.7034</td>\n",
       "    </tr>\n",
       "  </tbody>\n",
       "</table>\n",
       "<p>82696 rows × 2 columns</p>\n",
       "</div>"
      ],
      "text/plain": [
       "             Word    Coef\n",
       "45691    mediocre -3.8801\n",
       "80979       worst -3.8022\n",
       "36987    horrible -2.8048\n",
       "45789         meh -2.6312\n",
       "71773   tasteless -2.6291\n",
       "...           ...     ...\n",
       "21250   delicious  1.8543\n",
       "38532  incredible  1.9357\n",
       "4854      amazing  1.9636\n",
       "54593   perfectly  2.4662\n",
       "54530  perfection  2.7034\n",
       "\n",
       "[82696 rows x 2 columns]"
      ]
     },
     "execution_count": 74,
     "metadata": {},
     "output_type": "execute_result"
    }
   ],
   "source": [
    "feature_names = np.array(vect.get_feature_names())\n",
    "coef_index = model.coef_[0]\n",
    "new = pd.DataFrame({'Word':feature_names, 'Coef': coef_index})\n",
    "new.sort_values('Coef')"
   ]
  },
  {
   "cell_type": "code",
   "execution_count": null,
   "metadata": {},
   "outputs": [],
   "source": []
  }
 ],
 "metadata": {
  "kernelspec": {
   "display_name": "Python 3",
   "language": "python",
   "name": "python3"
  },
  "language_info": {
   "codemirror_mode": {
    "name": "ipython",
    "version": 3
   },
   "file_extension": ".py",
   "mimetype": "text/x-python",
   "name": "python",
   "nbconvert_exporter": "python",
   "pygments_lexer": "ipython3",
   "version": "3.7.7"
  }
 },
 "nbformat": 4,
 "nbformat_minor": 4
}
